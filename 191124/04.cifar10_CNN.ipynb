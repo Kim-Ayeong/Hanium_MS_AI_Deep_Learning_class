{
 "cells": [
  {
   "cell_type": "markdown",
   "metadata": {},
   "source": [
    "# 2019.11.24. 딥-러닝 과정 CNN"
   ]
  },
  {
   "cell_type": "markdown",
   "metadata": {},
   "source": [
    "# 네번째 실습. Keras 모델 생성/학습 - cifar10 : CNN\n",
    "[Keras Dataset](https://keras.io/ko/datasets/#-cifar10)"
   ]
  },
  {
   "cell_type": "markdown",
   "metadata": {},
   "source": [
    "## 1. 데이터 불러오기\n"
   ]
  },
  {
   "cell_type": "code",
   "execution_count": 1,
   "metadata": {},
   "outputs": [
    {
     "name": "stderr",
     "output_type": "stream",
     "text": [
      "/anaconda/envs/py35/lib/python3.5/importlib/_bootstrap.py:222: RuntimeWarning: numpy.dtype size changed, may indicate binary incompatibility. Expected 96, got 88\n",
      "  return f(*args, **kwds)\n",
      "/anaconda/envs/py35/lib/python3.5/site-packages/h5py/__init__.py:36: FutureWarning: Conversion of the second argument of issubdtype from `float` to `np.floating` is deprecated. In future, it will be treated as `np.float64 == np.dtype(float).type`.\n",
      "  from ._conv import register_converters as _register_converters\n",
      "Using TensorFlow backend.\n",
      "/anaconda/envs/py35/lib/python3.5/importlib/_bootstrap.py:222: RuntimeWarning: numpy.dtype size changed, may indicate binary incompatibility. Expected 96, got 88\n",
      "  return f(*args, **kwds)\n",
      "/anaconda/envs/py35/lib/python3.5/importlib/_bootstrap.py:222: RuntimeWarning: numpy.dtype size changed, may indicate binary incompatibility. Expected 96, got 88\n",
      "  return f(*args, **kwds)\n"
     ]
    },
    {
     "name": "stdout",
     "output_type": "stream",
     "text": [
      "Downloading data from https://www.cs.toronto.edu/~kriz/cifar-10-python.tar.gz\n",
      "170500096/170498071 [==============================] - 4s 0us/step\n",
      "(40000, 32, 32, 3) (40000, 1)\n",
      "(10000, 32, 32, 3) (10000, 1)\n",
      "(10000, 32, 32, 3) (10000, 1)\n"
     ]
    }
   ],
   "source": [
    "from keras.datasets import cifar10\n",
    "from sklearn.model_selection import train_test_split\n",
    "\n",
    "(X_train, y_train), (X_test, y_test) = cifar10.load_data()\n",
    "X_train, X_val, y_train, y_val = train_test_split(X_train, y_train,\n",
    "                                                     test_size=0.2,\n",
    "                                                     random_state=12)\n",
    "\n",
    "print(X_train.shape, y_train.shape)\n",
    "print(X_val.shape, y_val.shape)\n",
    "print(X_test.shape, y_test.shape)"
   ]
  },
  {
   "cell_type": "markdown",
   "metadata": {},
   "source": [
    "## 2. 이미지 데이터 확인하기 🖼\n"
   ]
  },
  {
   "cell_type": "code",
   "execution_count": 3,
   "metadata": {},
   "outputs": [
    {
     "data": {
      "text/plain": [
       "<matplotlib.image.AxesImage at 0x7fa66c3e3898>"
      ]
     },
     "execution_count": 3,
     "metadata": {},
     "output_type": "execute_result"
    },
    {
     "data": {
      "image/png": "[encoded data removed]",
      "text/plain": [
       "<Figure size 432x288 with 1 Axes>"
      ]
     },
     "metadata": {},
     "output_type": "display_data"
    }
   ],
   "source": [
    "import matplotlib.pyplot as plt\n",
    "\n",
    "image = X_train[0]\n",
    "\n",
    "plt.imshow(image)"
   ]
  },
  {
   "cell_type": "markdown",
   "metadata": {},
   "source": [
    "## 3. 이미지 데이터 전처리 \n",
    "- reshape 필요 X\n",
    "- Normalization만 수행"
   ]
  },
  {
   "cell_type": "code",
   "execution_count": 4,
   "metadata": {
    "scrolled": true
   },
   "outputs": [
    {
     "data": {
      "text/plain": [
       "array([[[ 98, 102, 129],\n",
       "        [ 25,  29, 111],\n",
       "        [ 27,  31, 106],\n",
       "        ...,\n",
       "        [ 26,  27, 118],\n",
       "        [ 29,  26, 123],\n",
       "        [ 27,  20, 122]],\n",
       "\n",
       "       [[ 75,  74, 122],\n",
       "        [ 12,  11, 120],\n",
       "        [ 16,  16, 122],\n",
       "        ...,\n",
       "        [ 11,  11, 137],\n",
       "        [ 13,  10, 141],\n",
       "        [ 12,   6, 135]],\n",
       "\n",
       "       [[ 69,  68, 117],\n",
       "        [ 13,  12, 125],\n",
       "        [ 18,  16, 130],\n",
       "        ...,\n",
       "        [ 11,  15, 129],\n",
       "        [ 13,  15, 130],\n",
       "        [ 11,  12, 122]],\n",
       "\n",
       "       ...,\n",
       "\n",
       "       [[ 68,  68,  68],\n",
       "        [  4,   4,   4],\n",
       "        [  6,   6,   6],\n",
       "        ...,\n",
       "        [  8,   7,   7],\n",
       "        [  6,   6,   6],\n",
       "        [  3,   3,   3]],\n",
       "\n",
       "       [[ 80,  80,  80],\n",
       "        [ 38,  38,  38],\n",
       "        [ 41,  41,  41],\n",
       "        ...,\n",
       "        [ 40,  40,  40],\n",
       "        [ 39,  39,  39],\n",
       "        [ 41,  41,  41]],\n",
       "\n",
       "       [[115, 115, 115],\n",
       "        [102, 102, 102],\n",
       "        [103, 103, 103],\n",
       "        ...,\n",
       "        [103, 103, 103],\n",
       "        [102, 102, 102],\n",
       "        [107, 107, 107]]], dtype=uint8)"
      ]
     },
     "execution_count": 4,
     "metadata": {},
     "output_type": "execute_result"
    }
   ],
   "source": [
    "X_train[0]"
   ]
  },
  {
   "cell_type": "code",
   "execution_count": 5,
   "metadata": {},
   "outputs": [],
   "source": [
    "X_train = X_train/255.0\n",
    "X_val = X_val/255.5\n",
    "X_test = X_test/255.0"
   ]
  },
  {
   "cell_type": "code",
   "execution_count": 6,
   "metadata": {
    "scrolled": true
   },
   "outputs": [
    {
     "data": {
      "text/plain": [
       "array([[[0.38431373, 0.4       , 0.50588235],\n",
       "        [0.09803922, 0.11372549, 0.43529412],\n",
       "        [0.10588235, 0.12156863, 0.41568627],\n",
       "        ...,\n",
       "        [0.10196078, 0.10588235, 0.4627451 ],\n",
       "        [0.11372549, 0.10196078, 0.48235294],\n",
       "        [0.10588235, 0.07843137, 0.47843137]],\n",
       "\n",
       "       [[0.29411765, 0.29019608, 0.47843137],\n",
       "        [0.04705882, 0.04313725, 0.47058824],\n",
       "        [0.0627451 , 0.0627451 , 0.47843137],\n",
       "        ...,\n",
       "        [0.04313725, 0.04313725, 0.5372549 ],\n",
       "        [0.05098039, 0.03921569, 0.55294118],\n",
       "        [0.04705882, 0.02352941, 0.52941176]],\n",
       "\n",
       "       [[0.27058824, 0.26666667, 0.45882353],\n",
       "        [0.05098039, 0.04705882, 0.49019608],\n",
       "        [0.07058824, 0.0627451 , 0.50980392],\n",
       "        ...,\n",
       "        [0.04313725, 0.05882353, 0.50588235],\n",
       "        [0.05098039, 0.05882353, 0.50980392],\n",
       "        [0.04313725, 0.04705882, 0.47843137]],\n",
       "\n",
       "       ...,\n",
       "\n",
       "       [[0.26666667, 0.26666667, 0.26666667],\n",
       "        [0.01568627, 0.01568627, 0.01568627],\n",
       "        [0.02352941, 0.02352941, 0.02352941],\n",
       "        ...,\n",
       "        [0.03137255, 0.02745098, 0.02745098],\n",
       "        [0.02352941, 0.02352941, 0.02352941],\n",
       "        [0.01176471, 0.01176471, 0.01176471]],\n",
       "\n",
       "       [[0.31372549, 0.31372549, 0.31372549],\n",
       "        [0.14901961, 0.14901961, 0.14901961],\n",
       "        [0.16078431, 0.16078431, 0.16078431],\n",
       "        ...,\n",
       "        [0.15686275, 0.15686275, 0.15686275],\n",
       "        [0.15294118, 0.15294118, 0.15294118],\n",
       "        [0.16078431, 0.16078431, 0.16078431]],\n",
       "\n",
       "       [[0.45098039, 0.45098039, 0.45098039],\n",
       "        [0.4       , 0.4       , 0.4       ],\n",
       "        [0.40392157, 0.40392157, 0.40392157],\n",
       "        ...,\n",
       "        [0.40392157, 0.40392157, 0.40392157],\n",
       "        [0.4       , 0.4       , 0.4       ],\n",
       "        [0.41960784, 0.41960784, 0.41960784]]])"
      ]
     },
     "execution_count": 6,
     "metadata": {},
     "output_type": "execute_result"
    }
   ],
   "source": [
    "X_train[0]"
   ]
  },
  {
   "cell_type": "markdown",
   "metadata": {},
   "source": [
    "## 4. Label categorical (one-hot encoding) \n"
   ]
  },
  {
   "cell_type": "code",
   "execution_count": 7,
   "metadata": {},
   "outputs": [
    {
     "name": "stdout",
     "output_type": "stream",
     "text": [
      "[[1]\n",
      " [7]\n",
      " [0]\n",
      " [9]\n",
      " [1]\n",
      " [4]\n",
      " [9]\n",
      " [5]\n",
      " [1]\n",
      " [9]]\n"
     ]
    }
   ],
   "source": [
    "print(y_train[:10])"
   ]
  },
  {
   "cell_type": "code",
   "execution_count": 8,
   "metadata": {},
   "outputs": [
    {
     "name": "stdout",
     "output_type": "stream",
     "text": [
      "[[0. 1. 0. 0. 0. 0. 0. 0. 0. 0.]\n",
      " [0. 0. 0. 0. 0. 0. 0. 1. 0. 0.]\n",
      " [1. 0. 0. 0. 0. 0. 0. 0. 0. 0.]\n",
      " [0. 0. 0. 0. 0. 0. 0. 0. 0. 1.]\n",
      " [0. 1. 0. 0. 0. 0. 0. 0. 0. 0.]\n",
      " [0. 0. 0. 0. 1. 0. 0. 0. 0. 0.]\n",
      " [0. 0. 0. 0. 0. 0. 0. 0. 0. 1.]\n",
      " [0. 0. 0. 0. 0. 1. 0. 0. 0. 0.]\n",
      " [0. 1. 0. 0. 0. 0. 0. 0. 0. 0.]\n",
      " [0. 0. 0. 0. 0. 0. 0. 0. 0. 1.]]\n"
     ]
    }
   ],
   "source": [
    "from keras.utils import to_categorical\n",
    "\n",
    "y_train = to_categorical(y_train)\n",
    "y_val = to_categorical(y_val)\n",
    "y_test = to_categorical(y_test)\n",
    "\n",
    "print(y_train[:10])"
   ]
  },
  {
   "cell_type": "markdown",
   "metadata": {},
   "source": [
    "## 5. 모델 생성 : CNN\n"
   ]
  },
  {
   "cell_type": "code",
   "execution_count": 9,
   "metadata": {},
   "outputs": [
    {
     "name": "stdout",
     "output_type": "stream",
     "text": [
      "WARNING:tensorflow:From /anaconda/envs/py35/lib/python3.5/site-packages/tensorflow/python/framework/op_def_library.py:263: colocate_with (from tensorflow.python.framework.ops) is deprecated and will be removed in a future version.\n",
      "Instructions for updating:\n",
      "Colocations handled automatically by placer.\n",
      "_________________________________________________________________\n",
      "Layer (type)                 Output Shape              Param #   \n",
      "=================================================================\n",
      "conv2d_1 (Conv2D)            (None, 32, 32, 64)        1792      \n",
      "_________________________________________________________________\n",
      "max_pooling2d_1 (MaxPooling2 (None, 16, 16, 64)        0         \n",
      "_________________________________________________________________\n",
      "flatten_1 (Flatten)          (None, 16384)             0         \n",
      "_________________________________________________________________\n",
      "dense_1 (Dense)              (None, 128)               2097280   \n",
      "_________________________________________________________________\n",
      "dense_2 (Dense)              (None, 10)                1290      \n",
      "=================================================================\n",
      "Total params: 2,100,362\n",
      "Trainable params: 2,100,362\n",
      "Non-trainable params: 0\n",
      "_________________________________________________________________\n",
      "None\n"
     ]
    }
   ],
   "source": [
    "from keras.models import Sequential\n",
    "from keras.layers import Conv2D, MaxPool2D, Dense, Flatten\n",
    "\n",
    "model = Sequential()\n",
    "model.add(Conv2D(filters=64,\n",
    "                kernel_size=(3, 3), \n",
    "                padding='same',\n",
    "                activation='relu',\n",
    "                input_shape=(32, 32, 3)))\n",
    "\n",
    "model.add(MaxPool2D(pool_size=(2,2)))\n",
    "\n",
    "model.add(Flatten())\n",
    "\n",
    "model.add(Dense(units=128, activation='relu'))\n",
    "model.add(Dense(units=10, activation='softmax'))\n",
    "\n",
    "print(model.summary())"
   ]
  },
  {
   "cell_type": "markdown",
   "metadata": {},
   "source": [
    "## 6. Compile - Optimizer, Loss function 설정\n"
   ]
  },
  {
   "cell_type": "code",
   "execution_count": 10,
   "metadata": {},
   "outputs": [],
   "source": [
    "model.compile(loss='categorical_crossentropy',\n",
    "             optimizer='adam',\n",
    "             metrics=['accuracy'])"
   ]
  },
  {
   "cell_type": "markdown",
   "metadata": {},
   "source": [
    "## 7. 모델 학습시키기\n"
   ]
  },
  {
   "cell_type": "code",
   "execution_count": 11,
   "metadata": {
    "scrolled": true
   },
   "outputs": [
    {
     "name": "stdout",
     "output_type": "stream",
     "text": [
      "WARNING:tensorflow:From /anaconda/envs/py35/lib/python3.5/site-packages/tensorflow/python/ops/math_ops.py:3066: to_int32 (from tensorflow.python.ops.math_ops) is deprecated and will be removed in a future version.\n",
      "Instructions for updating:\n",
      "Use tf.cast instead.\n",
      "Train on 40000 samples, validate on 10000 samples\n",
      "Epoch 1/50\n",
      "40000/40000 [==============================] - 36s 890us/step - loss: 1.5589 - acc: 0.4481 - val_loss: 1.3041 - val_acc: 0.5444\n",
      "Epoch 2/50\n",
      "40000/40000 [==============================] - 4s 100us/step - loss: 1.2196 - acc: 0.5702 - val_loss: 1.2007 - val_acc: 0.5791\n",
      "Epoch 3/50\n",
      "40000/40000 [==============================] - 4s 100us/step - loss: 1.0949 - acc: 0.6181 - val_loss: 1.1305 - val_acc: 0.6138\n",
      "Epoch 4/50\n",
      "40000/40000 [==============================] - 4s 100us/step - loss: 1.0019 - acc: 0.6498 - val_loss: 1.1291 - val_acc: 0.6089\n",
      "Epoch 5/50\n",
      "40000/40000 [==============================] - 4s 100us/step - loss: 0.9226 - acc: 0.6795 - val_loss: 1.0619 - val_acc: 0.6273\n",
      "Epoch 6/50\n",
      "40000/40000 [==============================] - 4s 100us/step - loss: 0.8583 - acc: 0.7014 - val_loss: 1.0648 - val_acc: 0.6353\n",
      "Epoch 7/50\n",
      "40000/40000 [==============================] - 4s 100us/step - loss: 0.7958 - acc: 0.7261 - val_loss: 1.0451 - val_acc: 0.6439\n",
      "Epoch 8/50\n",
      "40000/40000 [==============================] - 4s 100us/step - loss: 0.7516 - acc: 0.7378 - val_loss: 1.0092 - val_acc: 0.6620\n",
      "Epoch 9/50\n",
      "40000/40000 [==============================] - 4s 101us/step - loss: 0.6960 - acc: 0.7589 - val_loss: 1.0235 - val_acc: 0.6585\n",
      "Epoch 10/50\n",
      "40000/40000 [==============================] - 4s 101us/step - loss: 0.6480 - acc: 0.7767 - val_loss: 1.0628 - val_acc: 0.6452\n",
      "Epoch 11/50\n",
      "40000/40000 [==============================] - 4s 101us/step - loss: 0.5954 - acc: 0.7954 - val_loss: 1.0278 - val_acc: 0.6633\n",
      "Epoch 12/50\n",
      "40000/40000 [==============================] - 4s 101us/step - loss: 0.5520 - acc: 0.8087 - val_loss: 1.0289 - val_acc: 0.6683\n",
      "Epoch 13/50\n",
      "40000/40000 [==============================] - 4s 101us/step - loss: 0.5155 - acc: 0.8243 - val_loss: 1.0854 - val_acc: 0.6574\n",
      "Epoch 14/50\n",
      "40000/40000 [==============================] - 4s 101us/step - loss: 0.4692 - acc: 0.8396 - val_loss: 1.1230 - val_acc: 0.6509\n",
      "Epoch 15/50\n",
      "40000/40000 [==============================] - 4s 101us/step - loss: 0.4198 - acc: 0.8585 - val_loss: 1.1177 - val_acc: 0.6642\n",
      "Epoch 16/50\n",
      "40000/40000 [==============================] - 4s 101us/step - loss: 0.3818 - acc: 0.8745 - val_loss: 1.1689 - val_acc: 0.6521\n",
      "Epoch 17/50\n",
      "40000/40000 [==============================] - 4s 101us/step - loss: 0.3452 - acc: 0.8860 - val_loss: 1.1821 - val_acc: 0.6649\n",
      "Epoch 18/50\n",
      "40000/40000 [==============================] - 4s 101us/step - loss: 0.3170 - acc: 0.8968 - val_loss: 1.2965 - val_acc: 0.6430\n",
      "Epoch 19/50\n",
      "40000/40000 [==============================] - 4s 101us/step - loss: 0.2730 - acc: 0.9134 - val_loss: 1.3044 - val_acc: 0.6542\n",
      "Epoch 20/50\n",
      "40000/40000 [==============================] - 4s 101us/step - loss: 0.2405 - acc: 0.9248 - val_loss: 1.4269 - val_acc: 0.6411\n",
      "Epoch 21/50\n",
      "40000/40000 [==============================] - 4s 101us/step - loss: 0.2205 - acc: 0.9321 - val_loss: 1.3774 - val_acc: 0.6571\n",
      "Epoch 22/50\n",
      "40000/40000 [==============================] - 4s 101us/step - loss: 0.1864 - acc: 0.9447 - val_loss: 1.4698 - val_acc: 0.6528\n",
      "Epoch 23/50\n",
      "40000/40000 [==============================] - 4s 101us/step - loss: 0.1705 - acc: 0.9500 - val_loss: 1.5324 - val_acc: 0.6451\n",
      "Epoch 24/50\n",
      "40000/40000 [==============================] - 4s 101us/step - loss: 0.1450 - acc: 0.9592 - val_loss: 1.5736 - val_acc: 0.6528\n",
      "Epoch 25/50\n",
      "40000/40000 [==============================] - 4s 102us/step - loss: 0.1305 - acc: 0.9639 - val_loss: 1.6801 - val_acc: 0.6385\n",
      "Epoch 26/50\n",
      "40000/40000 [==============================] - 4s 101us/step - loss: 0.1143 - acc: 0.9691 - val_loss: 1.6794 - val_acc: 0.6481\n",
      "Epoch 27/50\n",
      "40000/40000 [==============================] - 4s 101us/step - loss: 0.1014 - acc: 0.9740 - val_loss: 1.7378 - val_acc: 0.6478\n",
      "Epoch 28/50\n",
      "40000/40000 [==============================] - 4s 101us/step - loss: 0.0876 - acc: 0.9776 - val_loss: 1.8156 - val_acc: 0.6505\n",
      "Epoch 29/50\n",
      "40000/40000 [==============================] - 4s 102us/step - loss: 0.0957 - acc: 0.9729 - val_loss: 1.9855 - val_acc: 0.6318\n",
      "Epoch 30/50\n",
      "40000/40000 [==============================] - 4s 101us/step - loss: 0.0771 - acc: 0.9798 - val_loss: 1.9620 - val_acc: 0.6358\n",
      "Epoch 31/50\n",
      "40000/40000 [==============================] - 4s 100us/step - loss: 0.0665 - acc: 0.9831 - val_loss: 1.9963 - val_acc: 0.6458\n",
      "Epoch 32/50\n",
      "40000/40000 [==============================] - 4s 100us/step - loss: 0.0652 - acc: 0.9833 - val_loss: 2.0343 - val_acc: 0.6419\n",
      "Epoch 33/50\n",
      "40000/40000 [==============================] - 4s 100us/step - loss: 0.0641 - acc: 0.9820 - val_loss: 2.0915 - val_acc: 0.6437\n",
      "Epoch 34/50\n",
      "40000/40000 [==============================] - 4s 100us/step - loss: 0.0660 - acc: 0.9814 - val_loss: 2.1696 - val_acc: 0.6370\n",
      "Epoch 35/50\n",
      "40000/40000 [==============================] - 4s 100us/step - loss: 0.0817 - acc: 0.9749 - val_loss: 2.1621 - val_acc: 0.6441\n",
      "Epoch 36/50\n",
      "40000/40000 [==============================] - 4s 101us/step - loss: 0.0476 - acc: 0.9880 - val_loss: 2.1990 - val_acc: 0.6437\n",
      "Epoch 37/50\n",
      "40000/40000 [==============================] - 4s 100us/step - loss: 0.0257 - acc: 0.9960 - val_loss: 2.2217 - val_acc: 0.6444\n",
      "Epoch 38/50\n",
      "40000/40000 [==============================] - 4s 100us/step - loss: 0.0235 - acc: 0.9961 - val_loss: 2.2925 - val_acc: 0.6463\n",
      "Epoch 39/50\n",
      "40000/40000 [==============================] - 4s 101us/step - loss: 0.0991 - acc: 0.9675 - val_loss: 2.4202 - val_acc: 0.6272\n",
      "Epoch 40/50\n",
      "40000/40000 [==============================] - 4s 101us/step - loss: 0.0811 - acc: 0.9725 - val_loss: 2.3399 - val_acc: 0.6383\n",
      "Epoch 41/50\n",
      "40000/40000 [==============================] - 4s 102us/step - loss: 0.0309 - acc: 0.9926 - val_loss: 2.4010 - val_acc: 0.6378\n",
      "Epoch 42/50\n",
      "40000/40000 [==============================] - 4s 101us/step - loss: 0.0134 - acc: 0.9984 - val_loss: 2.4141 - val_acc: 0.6410\n",
      "Epoch 43/50\n",
      "40000/40000 [==============================] - 4s 101us/step - loss: 0.0109 - acc: 0.9989 - val_loss: 2.3835 - val_acc: 0.6505\n",
      "Epoch 44/50\n",
      "40000/40000 [==============================] - 4s 101us/step - loss: 0.0070 - acc: 0.9995 - val_loss: 2.4174 - val_acc: 0.6525\n",
      "Epoch 45/50\n",
      "40000/40000 [==============================] - 4s 101us/step - loss: 0.0051 - acc: 0.9997 - val_loss: 2.4258 - val_acc: 0.6485\n",
      "Epoch 46/50\n",
      "40000/40000 [==============================] - 4s 101us/step - loss: 0.0047 - acc: 0.9997 - val_loss: 2.4629 - val_acc: 0.6542\n",
      "Epoch 47/50\n",
      "40000/40000 [==============================] - 4s 101us/step - loss: 0.2122 - acc: 0.9320 - val_loss: 2.5723 - val_acc: 0.6237\n",
      "Epoch 48/50\n",
      "40000/40000 [==============================] - 4s 101us/step - loss: 0.0874 - acc: 0.9715 - val_loss: 2.4727 - val_acc: 0.6411\n",
      "Epoch 49/50\n",
      "40000/40000 [==============================] - 4s 101us/step - loss: 0.0216 - acc: 0.9955 - val_loss: 2.4774 - val_acc: 0.6456\n",
      "Epoch 50/50\n",
      "40000/40000 [==============================] - 4s 101us/step - loss: 0.0087 - acc: 0.9994 - val_loss: 2.5117 - val_acc: 0.6451\n"
     ]
    }
   ],
   "source": [
    "batch_size = 128\n",
    "epochs = 50\n",
    "\n",
    "hist = model.fit(X_train, y_train,\n",
    "                epochs=epochs,\n",
    "                batch_size=batch_size,\n",
    "                validation_data=(X_val, y_val),\n",
    "                verbose=1)"
   ]
  },
  {
   "cell_type": "markdown",
   "metadata": {},
   "source": [
    "## 8. 모델 평가하기\n"
   ]
  },
  {
   "cell_type": "code",
   "execution_count": 12,
   "metadata": {},
   "outputs": [
    {
     "name": "stdout",
     "output_type": "stream",
     "text": [
      "10000/10000 [==============================] - 1s 69us/step\n",
      "2.566985604476929 0.6421\n"
     ]
    }
   ],
   "source": [
    "test_loss, test_acc = model.evaluate(X_test, y_test)\n",
    "\n",
    "print(test_loss, test_acc)"
   ]
  },
  {
   "cell_type": "markdown",
   "metadata": {},
   "source": [
    "## 9. 이미지를 랜덤으로 선택해 훈련된 모델로 예측 🖼\n"
   ]
  },
  {
   "cell_type": "code",
   "execution_count": 16,
   "metadata": {},
   "outputs": [
    {
     "data": {
      "image/png": "[encoded data removed]",
      "text/plain": [
       "<Figure size 216x216 with 1 Axes>"
      ]
     },
     "metadata": {},
     "output_type": "display_data"
    },
    {
     "data": {
      "image/png": "[encoded data removed]",
      "text/plain": [
       "<Figure size 216x216 with 1 Axes>"
      ]
     },
     "metadata": {},
     "output_type": "display_data"
    }
   ],
   "source": [
    "import numpy as np\n",
    "\n",
    "for index in np.random.choice(len(y_test), 2, replace=False):\n",
    "    label = y_test[index]\n",
    "    res_label = np.where(label == np.amax(label))\n",
    "    \n",
    "    pred = model.predict(X_test[index:index+1])[0]\n",
    "    res_pred = np.where(pred == np.amax(pred))\n",
    "    \n",
    "    title = 'Label value = %s Predicted value = %s' % (res_label[0], res_pred[0])\n",
    "    fig = plt.figure(1, figsize=(3,3))\n",
    "    ax1 = fig.add_axes((0, 0, 0.8, 0.8))\n",
    "    ax1.set_title(title)\n",
    "    \n",
    "    images = X_test\n",
    "    plt.imshow(images[index], cmap='Greys', interpolation='nearest')\n",
    "    plt.show()"
   ]
  },
  {
   "cell_type": "markdown",
   "metadata": {},
   "source": [
    "## 10. 학습 시각화하기\n"
   ]
  },
  {
   "cell_type": "code",
   "execution_count": 14,
   "metadata": {},
   "outputs": [
    {
     "data": {
      "image/png": "[encoded data removed]",
      "text/plain": [
       "<Figure size 432x288 with 1 Axes>"
      ]
     },
     "metadata": {},
     "output_type": "display_data"
    },
    {
     "data": {
      "image/png": "[encoded data removed]",
      "text/plain": [
       "<Figure size 432x288 with 1 Axes>"
      ]
     },
     "metadata": {},
     "output_type": "display_data"
    }
   ],
   "source": [
    "plt.plot(hist.history['acc'])\n",
    "plt.plot(hist.history['val_acc'])\n",
    "plt.title('Accuracy')\n",
    "plt.xlabel('epoch')\n",
    "plt.ylabel('accuracy')\n",
    "plt.legend(['train', 'val'], loc='upper right')\n",
    "plt.show()\n",
    "\n",
    "plt.plot(hist.history['loss'])\n",
    "plt.plot(hist.history['val_loss'])\n",
    "plt.title('Loss')\n",
    "plt.xlabel('epoch')\n",
    "plt.ylabel('loss')\n",
    "plt.legend(['train', 'val'], loc='upper right')\n",
    "plt.show()"
   ]
  },
  {
   "cell_type": "markdown",
   "metadata": {},
   "source": [
    "수고하셨습니다 👍"
   ]
  },
  {
   "cell_type": "code",
   "execution_count": null,
   "metadata": {},
   "outputs": [],
   "source": []
  }
 ],
 "metadata": {
  "kernelspec": {
   "display_name": "Python 3.5",
   "language": "python",
   "name": "python3"
  },
  "language_info": {
   "codemirror_mode": {
    "name": "ipython",
    "version": 3
   },
   "file_extension": ".py",
   "mimetype": "text/x-python",
   "name": "python",
   "nbconvert_exporter": "python",
   "pygments_lexer": "ipython3",
   "version": "3.5.5"
  }
 },
 "nbformat": 4,
 "nbformat_minor": 2
}
