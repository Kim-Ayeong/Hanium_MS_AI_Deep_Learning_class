{
 "cells": [
  {
   "cell_type": "markdown",
   "metadata": {},
   "source": [
    "# 2019.11.24. 딥-러닝 과정 CNN"
   ]
  },
  {
   "cell_type": "markdown",
   "metadata": {},
   "source": [
    "# 첫번째 실습. Keras 모델 생성/학습 - MNIST : MLP\n",
    "[Keras Dataset](https://keras.io/ko/datasets/#mnist)"
   ]
  },
  {
   "cell_type": "markdown",
   "metadata": {},
   "source": [
    "## 1. 데이터 불러오기\n"
   ]
  },
  {
   "cell_type": "code",
   "execution_count": 1,
   "metadata": {},
   "outputs": [
    {
     "name": "stderr",
     "output_type": "stream",
     "text": [
      "/anaconda/envs/py35/lib/python3.5/importlib/_bootstrap.py:222: RuntimeWarning: numpy.dtype size changed, may indicate binary incompatibility. Expected 96, got 88\n",
      "  return f(*args, **kwds)\n",
      "/anaconda/envs/py35/lib/python3.5/site-packages/h5py/__init__.py:36: FutureWarning: Conversion of the second argument of issubdtype from `float` to `np.floating` is deprecated. In future, it will be treated as `np.float64 == np.dtype(float).type`.\n",
      "  from ._conv import register_converters as _register_converters\n",
      "Using TensorFlow backend.\n",
      "/anaconda/envs/py35/lib/python3.5/importlib/_bootstrap.py:222: RuntimeWarning: numpy.dtype size changed, may indicate binary incompatibility. Expected 96, got 88\n",
      "  return f(*args, **kwds)\n",
      "/anaconda/envs/py35/lib/python3.5/importlib/_bootstrap.py:222: RuntimeWarning: numpy.dtype size changed, may indicate binary incompatibility. Expected 96, got 88\n",
      "  return f(*args, **kwds)\n"
     ]
    },
    {
     "name": "stdout",
     "output_type": "stream",
     "text": [
      "(60000, 28, 28) (60000,)\n",
      "(10000, 28, 28) (10000,)\n"
     ]
    }
   ],
   "source": [
    "from keras.datasets import mnist\n",
    "\n",
    "(X_train, y_train), (X_test, y_test) = mnist.load_data()\n",
    "\n",
    "print(X_train.shape, y_train.shape)\n",
    "print(X_test.shape, y_test.shape)"
   ]
  },
  {
   "cell_type": "code",
   "execution_count": 2,
   "metadata": {},
   "outputs": [
    {
     "name": "stdout",
     "output_type": "stream",
     "text": [
      "(30000, 28, 28) (30000,)\n",
      "(30000, 28, 28) (30000,)\n",
      "(10000, 28, 28) (10000,)\n"
     ]
    }
   ],
   "source": [
    "from sklearn.model_selection import train_test_split\n",
    "\n",
    "X_train, X_val, y_train, y_val = train_test_split(X_train, y_train,\n",
    "                                               test_size=0.5, \n",
    "                                               random_state=123)\n",
    "\n",
    "print(X_train.shape, y_train.shape)\n",
    "print(X_val.shape, y_val.shape)\n",
    "print(X_test.shape, y_test.shape)"
   ]
  },
  {
   "cell_type": "markdown",
   "metadata": {},
   "source": [
    "## 2. 이미지 데이터 확인하기 🖼\n"
   ]
  },
  {
   "cell_type": "code",
   "execution_count": 3,
   "metadata": {},
   "outputs": [
    {
     "data": {
      "text/plain": [
       "<matplotlib.image.AxesImage at 0x7f4d4dca66d8>"
      ]
     },
     "execution_count": 3,
     "metadata": {},
     "output_type": "execute_result"
    }
   ],
   "source": [
    "import matplotlib.pyplot as plt\n",
    "\n",
    "image = X_train[9]\n",
    "\n",
    "plt.imshow(image, cmap=plt.cm.gray)"
   ]
  },
  {
   "cell_type": "markdown",
   "metadata": {},
   "source": [
    "## 3-1. 이미지 데이터 전처리 : 2차원 -> 1차원(MLP input) 🌟🌟🌟\n"
   ]
  },
  {
   "cell_type": "code",
   "execution_count": 4,
   "metadata": {},
   "outputs": [
    {
     "name": "stdout",
     "output_type": "stream",
     "text": [
      "(30000, 784)\n",
      "[[0 0 0 ... 0 0 0]\n",
      " [0 0 0 ... 0 0 0]\n",
      " [0 0 0 ... 0 0 0]\n",
      " ...\n",
      " [0 0 0 ... 0 0 0]\n",
      " [0 0 0 ... 0 0 0]\n",
      " [0 0 0 ... 0 0 0]]\n"
     ]
    }
   ],
   "source": [
    "X_train = X_train.reshape((X_train.shape[0], 28*28)) # 60000개는 그대로 유지\n",
    "X_val = X_val.reshape((X_val.shape[0], 28*28))\n",
    "X_test = X_test.reshape((10000, 28*28))\n",
    "\n",
    "print(X_train.shape)\n",
    "print(X_train)"
   ]
  },
  {
   "cell_type": "markdown",
   "metadata": {},
   "source": [
    "## 3-2. 이미지 데이터 전처리 : Normalzation \n",
    ": 가질 수 있는 픽셀 값이 0~255(흰색, 검정색, R, G, B 모두)이므로 수가 너무 커지는 것을 방지"
   ]
  },
  {
   "cell_type": "code",
   "execution_count": 5,
   "metadata": {
    "scrolled": true
   },
   "outputs": [
    {
     "name": "stdout",
     "output_type": "stream",
     "text": [
      "[  0   0   0   0   0   0   0   0   0   0   0   0   0   0   0   0   0   0\n",
      "   0   0   0   0   0   0   0   0   0   0   0   0   0   0   0   0   0   0\n",
      "   0   0   0   0   0   0   0   0   0   0   0   0   0   0   0   0   0   0\n",
      "   0   0   0   0   0   0   0   0   0   0   0   0   0   0   0   0   0   0\n",
      "   0   0   0   0   0   0   0   0   0   0   0   0   0   0   0   0   0   0\n",
      "   0   0   0   0   0   0   0   0   0   0   0   0   0   0   0   0   0   0\n",
      "   0   0   0   0   0   0   0   0   0   0   0   0   0   0   0   0   0   0\n",
      "   0   0   0   0   0   0   0   0   0   0   0   0   0   0   0   0   0   0\n",
      "   0   0   0   0   0   0   0   0   0   0   0   0   0 170 170   0   0   0\n",
      "   0   0   0   0   0   0   0   0   0   0   0   0   0   0   0   0   0  29\n",
      "  29   0   0   0   0 255 255   0   0   0   0   0   0   0   0   0   0   0\n",
      "   0   0   0   0   0   0   0   0   0 198 226   0   0   0   0 198 114   0\n",
      "   0   0   0   0   0   0   0   0   0   0   0   0   0   0   0   0   0   0\n",
      " 141 255  57   0   0   0  29 255  86   0   0   0   0   0   0   0   0   0\n",
      "   0   0   0   0   0   0   0   0   0  29 226 170   0   0   0   0 170 255\n",
      "  86   0   0   0   0   0   0   0   0   0   0   0   0   0   0   0   0   0\n",
      "   0 141 255  57   0   0   0   0 170 255  86   0   0   0   0   0   0   0\n",
      "   0   0   0   0   0   0   0   0   0   0   0 170 226   0   0   0   0   0\n",
      " 198 255   0   0   0   0   0   0   0   0   0   0   0   0   0   0   0   0\n",
      "   0   0   0 255 114   0   0   0   0   0 255 170   0   0   0   0   0   0\n",
      "   0   0   0   0   0   0   0   0   0   0   0   0 114 255  29   0   0   0\n",
      "   0   0 255  86   0   0   0   0   0   0   0   0   0   0   0   0   0   0\n",
      "   0   0   0   0 170 226   0   0   0   0   0  57 255  86   0   0  29   0\n",
      "   0   0   0   0   0   0   0   0   0   0   0   0   0   0 170 170   0   0\n",
      "   0   0   0 114 255  86   0 114 226  86   0   0   0   0   0   0   0   0\n",
      "   0   0   0   0   0   0 170 255 170 226 255 255 255 255 255 255 255 255\n",
      " 198  29   0   0   0   0   0   0   0   0   0   0   0   0   0   0 114 255\n",
      " 255 198 170 170 170 226 255 114  86  29   0   0   0   0   0   0   0   0\n",
      "   0   0   0   0   0   0   0   0   0   0   0   0   0   0   0 170 255   0\n",
      "   0   0   0   0   0   0   0   0   0   0   0   0   0   0   0   0   0   0\n",
      "   0   0   0   0   0   0   0 170 255   0   0   0   0   0   0   0   0   0\n",
      "   0   0   0   0   0   0   0   0   0   0   0   0   0   0   0   0   0 170\n",
      " 255  57   0   0   0   0   0   0   0   0   0   0   0   0   0   0   0   0\n",
      "   0   0   0   0   0   0   0   0   0 170 255  86   0   0   0   0   0   0\n",
      "   0   0   0   0   0   0   0   0   0   0   0   0   0   0   0   0   0   0\n",
      "   0  86 255  86   0   0   0   0   0   0   0   0   0   0   0   0   0   0\n",
      "   0   0   0   0   0   0   0   0   0   0   0  29 255  86   0   0   0   0\n",
      "   0   0   0   0   0   0   0   0   0   0   0   0   0   0   0   0   0   0\n",
      "   0   0   0   0 141 114   0   0   0   0   0   0   0   0   0   0   0   0\n",
      "   0   0   0   0   0   0   0   0   0   0   0   0   0   0   0   0   0   0\n",
      "   0   0   0   0   0   0   0   0   0   0   0   0   0   0   0   0   0   0\n",
      "   0   0   0   0   0   0   0   0   0   0   0   0   0   0   0   0   0   0\n",
      "   0   0   0   0   0   0   0   0   0   0   0   0   0   0   0   0   0   0\n",
      "   0   0   0   0   0   0   0   0   0   0]\n"
     ]
    }
   ],
   "source": [
    "print(X_train[9])"
   ]
  },
  {
   "cell_type": "code",
   "execution_count": 6,
   "metadata": {
    "scrolled": true
   },
   "outputs": [
    {
     "name": "stdout",
     "output_type": "stream",
     "text": [
      "[0.         0.         0.         0.         0.         0.\n",
      " 0.         0.         0.         0.         0.         0.\n",
      " 0.         0.         0.         0.         0.         0.\n",
      " 0.         0.         0.         0.         0.         0.\n",
      " 0.         0.         0.         0.         0.         0.\n",
      " 0.         0.         0.         0.         0.         0.\n",
      " 0.         0.         0.         0.         0.         0.\n",
      " 0.         0.         0.         0.         0.         0.\n",
      " 0.         0.         0.         0.         0.         0.\n",
      " 0.         0.         0.         0.         0.         0.\n",
      " 0.         0.         0.         0.         0.         0.\n",
      " 0.         0.         0.         0.         0.         0.\n",
      " 0.         0.         0.         0.         0.         0.\n",
      " 0.         0.         0.         0.         0.         0.\n",
      " 0.         0.         0.         0.         0.         0.\n",
      " 0.         0.         0.         0.         0.         0.\n",
      " 0.         0.         0.         0.         0.         0.\n",
      " 0.         0.         0.         0.         0.         0.\n",
      " 0.         0.         0.         0.         0.         0.\n",
      " 0.         0.         0.         0.         0.         0.\n",
      " 0.         0.         0.         0.         0.         0.\n",
      " 0.         0.         0.         0.         0.         0.\n",
      " 0.         0.         0.         0.         0.         0.\n",
      " 0.         0.         0.         0.         0.         0.\n",
      " 0.         0.         0.         0.         0.         0.\n",
      " 0.         0.         0.         0.         0.         0.\n",
      " 0.         0.66666667 0.66666667 0.         0.         0.\n",
      " 0.         0.         0.         0.         0.         0.\n",
      " 0.         0.         0.         0.         0.         0.\n",
      " 0.         0.         0.         0.         0.         0.11372549\n",
      " 0.11372549 0.         0.         0.         0.         1.\n",
      " 1.         0.         0.         0.         0.         0.\n",
      " 0.         0.         0.         0.         0.         0.\n",
      " 0.         0.         0.         0.         0.         0.\n",
      " 0.         0.         0.         0.77647059 0.88627451 0.\n",
      " 0.         0.         0.         0.77647059 0.44705882 0.\n",
      " 0.         0.         0.         0.         0.         0.\n",
      " 0.         0.         0.         0.         0.         0.\n",
      " 0.         0.         0.         0.         0.         0.\n",
      " 0.55294118 1.         0.22352941 0.         0.         0.\n",
      " 0.11372549 1.         0.3372549  0.         0.         0.\n",
      " 0.         0.         0.         0.         0.         0.\n",
      " 0.         0.         0.         0.         0.         0.\n",
      " 0.         0.         0.         0.11372549 0.88627451 0.66666667\n",
      " 0.         0.         0.         0.         0.66666667 1.\n",
      " 0.3372549  0.         0.         0.         0.         0.\n",
      " 0.         0.         0.         0.         0.         0.\n",
      " 0.         0.         0.         0.         0.         0.\n",
      " 0.         0.55294118 1.         0.22352941 0.         0.\n",
      " 0.         0.         0.66666667 1.         0.3372549  0.\n",
      " 0.         0.         0.         0.         0.         0.\n",
      " 0.         0.         0.         0.         0.         0.\n",
      " 0.         0.         0.         0.         0.         0.66666667\n",
      " 0.88627451 0.         0.         0.         0.         0.\n",
      " 0.77647059 1.         0.         0.         0.         0.\n",
      " 0.         0.         0.         0.         0.         0.\n",
      " 0.         0.         0.         0.         0.         0.\n",
      " 0.         0.         0.         1.         0.44705882 0.\n",
      " 0.         0.         0.         0.         1.         0.66666667\n",
      " 0.         0.         0.         0.         0.         0.\n",
      " 0.         0.         0.         0.         0.         0.\n",
      " 0.         0.         0.         0.         0.         0.\n",
      " 0.44705882 1.         0.11372549 0.         0.         0.\n",
      " 0.         0.         1.         0.3372549  0.         0.\n",
      " 0.         0.         0.         0.         0.         0.\n",
      " 0.         0.         0.         0.         0.         0.\n",
      " 0.         0.         0.         0.         0.66666667 0.88627451\n",
      " 0.         0.         0.         0.         0.         0.22352941\n",
      " 1.         0.3372549  0.         0.         0.11372549 0.\n",
      " 0.         0.         0.         0.         0.         0.\n",
      " 0.         0.         0.         0.         0.         0.\n",
      " 0.         0.         0.66666667 0.66666667 0.         0.\n",
      " 0.         0.         0.         0.44705882 1.         0.3372549\n",
      " 0.         0.44705882 0.88627451 0.3372549  0.         0.\n",
      " 0.         0.         0.         0.         0.         0.\n",
      " 0.         0.         0.         0.         0.         0.\n",
      " 0.66666667 1.         0.66666667 0.88627451 1.         1.\n",
      " 1.         1.         1.         1.         1.         1.\n",
      " 0.77647059 0.11372549 0.         0.         0.         0.\n",
      " 0.         0.         0.         0.         0.         0.\n",
      " 0.         0.         0.         0.         0.44705882 1.\n",
      " 1.         0.77647059 0.66666667 0.66666667 0.66666667 0.88627451\n",
      " 1.         0.44705882 0.3372549  0.11372549 0.         0.\n",
      " 0.         0.         0.         0.         0.         0.\n",
      " 0.         0.         0.         0.         0.         0.\n",
      " 0.         0.         0.         0.         0.         0.\n",
      " 0.         0.         0.         0.66666667 1.         0.\n",
      " 0.         0.         0.         0.         0.         0.\n",
      " 0.         0.         0.         0.         0.         0.\n",
      " 0.         0.         0.         0.         0.         0.\n",
      " 0.         0.         0.         0.         0.         0.\n",
      " 0.         0.66666667 1.         0.         0.         0.\n",
      " 0.         0.         0.         0.         0.         0.\n",
      " 0.         0.         0.         0.         0.         0.\n",
      " 0.         0.         0.         0.         0.         0.\n",
      " 0.         0.         0.         0.         0.         0.66666667\n",
      " 1.         0.22352941 0.         0.         0.         0.\n",
      " 0.         0.         0.         0.         0.         0.\n",
      " 0.         0.         0.         0.         0.         0.\n",
      " 0.         0.         0.         0.         0.         0.\n",
      " 0.         0.         0.         0.66666667 1.         0.3372549\n",
      " 0.         0.         0.         0.         0.         0.\n",
      " 0.         0.         0.         0.         0.         0.\n",
      " 0.         0.         0.         0.         0.         0.\n",
      " 0.         0.         0.         0.         0.         0.\n",
      " 0.         0.3372549  1.         0.3372549  0.         0.\n",
      " 0.         0.         0.         0.         0.         0.\n",
      " 0.         0.         0.         0.         0.         0.\n",
      " 0.         0.         0.         0.         0.         0.\n",
      " 0.         0.         0.         0.         0.         0.11372549\n",
      " 1.         0.3372549  0.         0.         0.         0.\n",
      " 0.         0.         0.         0.         0.         0.\n",
      " 0.         0.         0.         0.         0.         0.\n",
      " 0.         0.         0.         0.         0.         0.\n",
      " 0.         0.         0.         0.         0.55294118 0.44705882\n",
      " 0.         0.         0.         0.         0.         0.\n",
      " 0.         0.         0.         0.         0.         0.\n",
      " 0.         0.         0.         0.         0.         0.\n",
      " 0.         0.         0.         0.         0.         0.\n",
      " 0.         0.         0.         0.         0.         0.\n",
      " 0.         0.         0.         0.         0.         0.\n",
      " 0.         0.         0.         0.         0.         0.\n",
      " 0.         0.         0.         0.         0.         0.\n",
      " 0.         0.         0.         0.         0.         0.\n",
      " 0.         0.         0.         0.         0.         0.\n",
      " 0.         0.         0.         0.         0.         0.\n",
      " 0.         0.         0.         0.         0.         0.\n",
      " 0.         0.         0.         0.         0.         0.\n",
      " 0.         0.         0.         0.         0.         0.\n",
      " 0.         0.         0.         0.         0.         0.\n",
      " 0.         0.         0.         0.        ]\n"
     ]
    }
   ],
   "source": [
    "X_train = X_train/255.0\n",
    "X_val = X_val/255.0\n",
    "X_test = X_test/255.0\n",
    "\n",
    "print(X_train[9])"
   ]
  },
  {
   "cell_type": "markdown",
   "metadata": {},
   "source": [
    "## 4. Label 전처리 (one-hot encoding) \n",
    ": 분류 문제이므로 categorical 해주어야 함"
   ]
  },
  {
   "cell_type": "code",
   "execution_count": 7,
   "metadata": {},
   "outputs": [
    {
     "name": "stdout",
     "output_type": "stream",
     "text": [
      "[2 0 9 6 9 2 3 5 7 4]\n"
     ]
    }
   ],
   "source": [
    "print(y_train[:10])"
   ]
  },
  {
   "cell_type": "code",
   "execution_count": 8,
   "metadata": {},
   "outputs": [
    {
     "name": "stdout",
     "output_type": "stream",
     "text": [
      "[[0. 0. 1. 0. 0. 0. 0. 0. 0. 0.]\n",
      " [1. 0. 0. 0. 0. 0. 0. 0. 0. 0.]\n",
      " [0. 0. 0. 0. 0. 0. 0. 0. 0. 1.]\n",
      " [0. 0. 0. 0. 0. 0. 1. 0. 0. 0.]\n",
      " [0. 0. 0. 0. 0. 0. 0. 0. 0. 1.]\n",
      " [0. 0. 1. 0. 0. 0. 0. 0. 0. 0.]\n",
      " [0. 0. 0. 1. 0. 0. 0. 0. 0. 0.]\n",
      " [0. 0. 0. 0. 0. 1. 0. 0. 0. 0.]\n",
      " [0. 0. 0. 0. 0. 0. 0. 1. 0. 0.]\n",
      " [0. 0. 0. 0. 1. 0. 0. 0. 0. 0.]]\n"
     ]
    }
   ],
   "source": [
    "from keras.utils import to_categorical\n",
    "\n",
    "y_train = to_categorical(y_train)\n",
    "y_val = to_categorical(y_val)\n",
    "y_test = to_categorical(y_test)\n",
    "\n",
    "print(y_train[:10])"
   ]
  },
  {
   "cell_type": "markdown",
   "metadata": {},
   "source": [
    "## 5. 모델 생성 : MLP\n"
   ]
  },
  {
   "cell_type": "code",
   "execution_count": 9,
   "metadata": {},
   "outputs": [
    {
     "name": "stdout",
     "output_type": "stream",
     "text": [
      "WARNING:tensorflow:From /anaconda/envs/py35/lib/python3.5/site-packages/tensorflow/python/framework/op_def_library.py:263: colocate_with (from tensorflow.python.framework.ops) is deprecated and will be removed in a future version.\n",
      "Instructions for updating:\n",
      "Colocations handled automatically by placer.\n",
      "_________________________________________________________________\n",
      "Layer (type)                 Output Shape              Param #   \n",
      "=================================================================\n",
      "dense_1 (Dense)              (None, 512)               401920    \n",
      "_________________________________________________________________\n",
      "dense_2 (Dense)              (None, 10)                5130      \n",
      "=================================================================\n",
      "Total params: 407,050\n",
      "Trainable params: 407,050\n",
      "Non-trainable params: 0\n",
      "_________________________________________________________________\n",
      "None\n"
     ]
    }
   ],
   "source": [
    "from keras.models import Sequential\n",
    "from keras.layers import Dense\n",
    "\n",
    "model = Sequential()\n",
    "model.add(Dense(512, \n",
    "                input_dim=784,\n",
    "                activation='relu')) \n",
    "\n",
    "model.add(Dense(10, activation='softmax'))\n",
    "\n",
    "print(model.summary())"
   ]
  },
  {
   "cell_type": "code",
   "execution_count": 10,
   "metadata": {},
   "outputs": [],
   "source": [
    "# Seq을 생성하는 또 다른 방법\n",
    "from keras import models\n",
    "\n",
    "model2 = models.Sequential()"
   ]
  },
  {
   "cell_type": "markdown",
   "metadata": {},
   "source": [
    "## 6. Compile - Optimizer, Loss function 설정\n"
   ]
  },
  {
   "cell_type": "code",
   "execution_count": 11,
   "metadata": {},
   "outputs": [],
   "source": [
    "model.compile(loss='categorical_crossentropy', \n",
    "              optimizer='sgd', \n",
    "              metrics=['accuracy'])"
   ]
  },
  {
   "cell_type": "markdown",
   "metadata": {},
   "source": [
    "## 7. 모델 학습시키기\n"
   ]
  },
  {
   "cell_type": "code",
   "execution_count": 12,
   "metadata": {
    "scrolled": true
   },
   "outputs": [
    {
     "name": "stdout",
     "output_type": "stream",
     "text": [
      "WARNING:tensorflow:From /anaconda/envs/py35/lib/python3.5/site-packages/tensorflow/python/ops/math_ops.py:3066: to_int32 (from tensorflow.python.ops.math_ops) is deprecated and will be removed in a future version.\n",
      "Instructions for updating:\n",
      "Use tf.cast instead.\n",
      "Train on 30000 samples, validate on 30000 samples\n",
      "Epoch 1/50\n",
      "30000/30000 [==============================] - 2s 57us/step - loss: 1.4445 - acc: 0.6813 - val_loss: 0.9065 - val_acc: 0.8221\n",
      "Epoch 2/50\n",
      "30000/30000 [==============================] - 1s 48us/step - loss: 0.7324 - acc: 0.8472 - val_loss: 0.6123 - val_acc: 0.8579\n",
      "Epoch 3/50\n",
      "30000/30000 [==============================] - 1s 49us/step - loss: 0.5536 - acc: 0.8696 - val_loss: 0.5062 - val_acc: 0.8747\n",
      "Epoch 4/50\n",
      "30000/30000 [==============================] - 1s 47us/step - loss: 0.4751 - acc: 0.8819 - val_loss: 0.4500 - val_acc: 0.8841\n",
      "Epoch 5/50\n",
      "30000/30000 [==============================] - 1s 48us/step - loss: 0.4298 - acc: 0.8902 - val_loss: 0.4153 - val_acc: 0.8905\n",
      "Epoch 6/50\n",
      "30000/30000 [==============================] - 1s 48us/step - loss: 0.3996 - acc: 0.8948 - val_loss: 0.3903 - val_acc: 0.8959\n",
      "Epoch 7/50\n",
      "30000/30000 [==============================] - 1s 48us/step - loss: 0.3774 - acc: 0.8990 - val_loss: 0.3723 - val_acc: 0.8989\n",
      "Epoch 8/50\n",
      "30000/30000 [==============================] - 1s 47us/step - loss: 0.3604 - acc: 0.9023 - val_loss: 0.3578 - val_acc: 0.9014\n",
      "Epoch 9/50\n",
      "30000/30000 [==============================] - 2s 51us/step - loss: 0.3465 - acc: 0.9048 - val_loss: 0.3458 - val_acc: 0.9045\n",
      "Epoch 10/50\n",
      "30000/30000 [==============================] - 1s 49us/step - loss: 0.3348 - acc: 0.9083 - val_loss: 0.3362 - val_acc: 0.9071\n",
      "Epoch 11/50\n",
      "30000/30000 [==============================] - 1s 48us/step - loss: 0.3246 - acc: 0.9109 - val_loss: 0.3270 - val_acc: 0.9104\n",
      "Epoch 12/50\n",
      "30000/30000 [==============================] - 1s 48us/step - loss: 0.3160 - acc: 0.9132 - val_loss: 0.3189 - val_acc: 0.9115\n",
      "Epoch 13/50\n",
      "30000/30000 [==============================] - 1s 48us/step - loss: 0.3079 - acc: 0.9150 - val_loss: 0.3123 - val_acc: 0.9135\n",
      "Epoch 14/50\n",
      "30000/30000 [==============================] - 1s 48us/step - loss: 0.3008 - acc: 0.9169 - val_loss: 0.3061 - val_acc: 0.9137\n",
      "Epoch 15/50\n",
      "30000/30000 [==============================] - 1s 49us/step - loss: 0.2942 - acc: 0.9185 - val_loss: 0.3000 - val_acc: 0.9169\n",
      "Epoch 16/50\n",
      "30000/30000 [==============================] - 1s 50us/step - loss: 0.2881 - acc: 0.9205 - val_loss: 0.2949 - val_acc: 0.9182\n",
      "Epoch 17/50\n",
      "30000/30000 [==============================] - 1s 49us/step - loss: 0.2825 - acc: 0.9218 - val_loss: 0.2894 - val_acc: 0.9194\n",
      "Epoch 18/50\n",
      "30000/30000 [==============================] - 1s 48us/step - loss: 0.2772 - acc: 0.9232 - val_loss: 0.2846 - val_acc: 0.9206\n",
      "Epoch 19/50\n",
      "30000/30000 [==============================] - 1s 48us/step - loss: 0.2721 - acc: 0.9246 - val_loss: 0.2801 - val_acc: 0.9220\n",
      "Epoch 20/50\n",
      "30000/30000 [==============================] - 1s 49us/step - loss: 0.2673 - acc: 0.9260 - val_loss: 0.2762 - val_acc: 0.9234\n",
      "Epoch 21/50\n",
      "30000/30000 [==============================] - 1s 49us/step - loss: 0.2628 - acc: 0.9274 - val_loss: 0.2721 - val_acc: 0.9245\n",
      "Epoch 22/50\n",
      "30000/30000 [==============================] - 1s 50us/step - loss: 0.2585 - acc: 0.9290 - val_loss: 0.2688 - val_acc: 0.9247\n",
      "Epoch 23/50\n",
      "30000/30000 [==============================] - 1s 48us/step - loss: 0.2543 - acc: 0.9298 - val_loss: 0.2651 - val_acc: 0.9268\n",
      "Epoch 24/50\n",
      "30000/30000 [==============================] - 1s 49us/step - loss: 0.2505 - acc: 0.9309 - val_loss: 0.2627 - val_acc: 0.9276\n",
      "Epoch 25/50\n",
      "30000/30000 [==============================] - 1s 49us/step - loss: 0.2466 - acc: 0.9320 - val_loss: 0.2584 - val_acc: 0.9289\n",
      "Epoch 26/50\n",
      "30000/30000 [==============================] - 1s 49us/step - loss: 0.2432 - acc: 0.9327 - val_loss: 0.2555 - val_acc: 0.9291\n",
      "Epoch 27/50\n",
      "30000/30000 [==============================] - 1s 50us/step - loss: 0.2394 - acc: 0.9339 - val_loss: 0.2525 - val_acc: 0.9300\n",
      "Epoch 28/50\n",
      "30000/30000 [==============================] - 1s 48us/step - loss: 0.2361 - acc: 0.9350 - val_loss: 0.2497 - val_acc: 0.9308\n",
      "Epoch 29/50\n",
      "30000/30000 [==============================] - 1s 48us/step - loss: 0.2329 - acc: 0.9360 - val_loss: 0.2467 - val_acc: 0.9317\n",
      "Epoch 30/50\n",
      "30000/30000 [==============================] - 1s 49us/step - loss: 0.2297 - acc: 0.9373 - val_loss: 0.2438 - val_acc: 0.9324\n",
      "Epoch 31/50\n",
      "30000/30000 [==============================] - 1s 48us/step - loss: 0.2265 - acc: 0.9378 - val_loss: 0.2415 - val_acc: 0.9332\n",
      "Epoch 32/50\n",
      "30000/30000 [==============================] - 1s 49us/step - loss: 0.2236 - acc: 0.9382 - val_loss: 0.2387 - val_acc: 0.9340\n",
      "Epoch 33/50\n",
      "30000/30000 [==============================] - 1s 48us/step - loss: 0.2206 - acc: 0.9393 - val_loss: 0.2362 - val_acc: 0.9345\n",
      "Epoch 34/50\n",
      "30000/30000 [==============================] - 1s 50us/step - loss: 0.2177 - acc: 0.9410 - val_loss: 0.2342 - val_acc: 0.9349\n",
      "Epoch 35/50\n",
      "30000/30000 [==============================] - 1s 48us/step - loss: 0.2149 - acc: 0.9410 - val_loss: 0.2312 - val_acc: 0.9364\n",
      "Epoch 36/50\n",
      "30000/30000 [==============================] - 1s 47us/step - loss: 0.2122 - acc: 0.9419 - val_loss: 0.2292 - val_acc: 0.9363\n",
      "Epoch 37/50\n",
      "30000/30000 [==============================] - 1s 49us/step - loss: 0.2097 - acc: 0.9422 - val_loss: 0.2267 - val_acc: 0.9369\n",
      "Epoch 38/50\n",
      "30000/30000 [==============================] - 1s 49us/step - loss: 0.2070 - acc: 0.9428 - val_loss: 0.2245 - val_acc: 0.9381\n",
      "Epoch 39/50\n",
      "30000/30000 [==============================] - 1s 47us/step - loss: 0.2045 - acc: 0.9434 - val_loss: 0.2231 - val_acc: 0.9377\n",
      "Epoch 40/50\n",
      "30000/30000 [==============================] - 1s 48us/step - loss: 0.2018 - acc: 0.9440 - val_loss: 0.2210 - val_acc: 0.9385\n",
      "Epoch 41/50\n",
      "30000/30000 [==============================] - 1s 47us/step - loss: 0.1997 - acc: 0.9449 - val_loss: 0.2182 - val_acc: 0.9391\n",
      "Epoch 42/50\n",
      "30000/30000 [==============================] - 1s 48us/step - loss: 0.1971 - acc: 0.9453 - val_loss: 0.2162 - val_acc: 0.9398\n",
      "Epoch 43/50\n",
      "30000/30000 [==============================] - 1s 49us/step - loss: 0.1949 - acc: 0.9459 - val_loss: 0.2146 - val_acc: 0.9397\n",
      "Epoch 44/50\n",
      "30000/30000 [==============================] - 1s 48us/step - loss: 0.1926 - acc: 0.9457 - val_loss: 0.2126 - val_acc: 0.9409\n",
      "Epoch 45/50\n",
      "30000/30000 [==============================] - 1s 50us/step - loss: 0.1904 - acc: 0.9466 - val_loss: 0.2105 - val_acc: 0.9410\n",
      "Epoch 46/50\n",
      "30000/30000 [==============================] - 1s 50us/step - loss: 0.1884 - acc: 0.9478 - val_loss: 0.2086 - val_acc: 0.9414\n",
      "Epoch 47/50\n",
      "30000/30000 [==============================] - 1s 48us/step - loss: 0.1862 - acc: 0.9483 - val_loss: 0.2072 - val_acc: 0.9416\n",
      "Epoch 48/50\n",
      "30000/30000 [==============================] - 1s 49us/step - loss: 0.1841 - acc: 0.9488 - val_loss: 0.2057 - val_acc: 0.9420\n",
      "Epoch 49/50\n",
      "30000/30000 [==============================] - 1s 48us/step - loss: 0.1820 - acc: 0.9496 - val_loss: 0.2035 - val_acc: 0.9426\n",
      "Epoch 50/50\n",
      "30000/30000 [==============================] - 1s 49us/step - loss: 0.1799 - acc: 0.9500 - val_loss: 0.2023 - val_acc: 0.9430\n"
     ]
    }
   ],
   "source": [
    "batch_size = 128\n",
    "epochs = 50\n",
    "\n",
    "hist = model.fit(X_train, y_train,\n",
    "                 epochs=epochs,\n",
    "                 batch_size=batch_size,\n",
    "                 validation_data=(X_val, y_val),\n",
    "                 verbose=1)"
   ]
  },
  {
   "cell_type": "markdown",
   "metadata": {},
   "source": [
    "## 8. 모델 평가하기\n"
   ]
  },
  {
   "cell_type": "code",
   "execution_count": 13,
   "metadata": {},
   "outputs": [
    {
     "name": "stdout",
     "output_type": "stream",
     "text": [
      "10000/10000 [==============================] - 0s 29us/step\n",
      "0.1892718314960599 0.9443\n"
     ]
    }
   ],
   "source": [
    "test_loss, test_acc = model.evaluate(X_test, y_test)\n",
    "\n",
    "print(test_loss, test_acc)"
   ]
  },
  {
   "cell_type": "markdown",
   "metadata": {},
   "source": [
    "## 9. 이미지를 랜덤으로 선택해 훈련된 모델로 예측 🖼"
   ]
  },
  {
   "cell_type": "code",
   "execution_count": 14,
   "metadata": {},
   "outputs": [
    {
     "data": {
      "image/png": "[encoded data removed]",
      "text/plain": [
       "<Figure size 216x216 with 1 Axes>"
      ]
     },
     "metadata": {},
     "output_type": "display_data"
    },
    {
     "data": {
      "image/png": "[encoded data removed]",
      "text/plain": [
       "<Figure size 216x216 with 1 Axes>"
      ]
     },
     "metadata": {},
     "output_type": "display_data"
    }
   ],
   "source": [
    "import numpy\n",
    "for index in numpy.random.choice(len(y_test), 2, replace = False):\n",
    "    predicted = model.predict(X_test[index:index + 1])[0]\n",
    "    label = y_test[index]\n",
    "    result_label = numpy.where(label == numpy.amax(label))\n",
    "    result_predicted = numpy.where(predicted == numpy.amax(predicted))\n",
    "    title = \"Label value = %s  Predicted value = %s \" % (result_label[0], result_predicted[0])\n",
    "    \n",
    "    fig = plt.figure(1, figsize = (3,3))\n",
    "    ax1 = fig.add_axes((0,0,.8,.8))\n",
    "    ax1.set_title(title)\n",
    "    images = X_test\n",
    "    plt.imshow(images[index].reshape(28, 28), cmap = 'Greys', interpolation = 'nearest')\n",
    "    plt.show()"
   ]
  },
  {
   "cell_type": "markdown",
   "metadata": {},
   "source": [
    "## 10. 학습 시각화하기\n"
   ]
  },
  {
   "cell_type": "code",
   "execution_count": 15,
   "metadata": {},
   "outputs": [
    {
     "data": {
      "image/png": "[encoded data removed]",
      "text/plain": [
       "<Figure size 432x288 with 1 Axes>"
      ]
     },
     "metadata": {},
     "output_type": "display_data"
    },
    {
     "data": {
      "image/png": "[encoded data removed]",
      "text/plain": [
       "<Figure size 432x288 with 1 Axes>"
      ]
     },
     "metadata": {},
     "output_type": "display_data"
    }
   ],
   "source": [
    "plt.plot(hist.history['acc'])\n",
    "plt.plot(hist.history['val_acc'])\n",
    "plt.title('Accuracy')\n",
    "plt.xlabel('epoch')\n",
    "plt.ylabel('accuracy')\n",
    "plt.legend(['train','val'], loc='upper left')\n",
    "plt.show()\n",
    "\n",
    "plt.plot(hist.history['loss'])\n",
    "plt.plot(hist.history['val_loss'])\n",
    "plt.title('Loss')\n",
    "plt.xlabel('epoch')\n",
    "plt.ylabel('loss')\n",
    "plt.legend(['train','val'], loc='upper left')\n",
    "plt.show()"
   ]
  },
  {
   "cell_type": "code",
   "execution_count": null,
   "metadata": {},
   "outputs": [],
   "source": []
  }
 ],
 "metadata": {
  "kernelspec": {
   "display_name": "Python 3.5",
   "language": "python",
   "name": "python3"
  },
  "language_info": {
   "codemirror_mode": {
    "name": "ipython",
    "version": 3
   },
   "file_extension": ".py",
   "mimetype": "text/x-python",
   "name": "python",
   "nbconvert_exporter": "python",
   "pygments_lexer": "ipython3",
   "version": "3.5.5"
  }
 },
 "nbformat": 4,
 "nbformat_minor": 2
}
